{
 "cells": [
  {
   "cell_type": "code",
   "execution_count": 2,
   "metadata": {},
   "outputs": [
    {
     "data": {
      "text/plain": [
       "'/home/yaswanth/Yaswanth/Machine-learning/End-To-End-Wine-Quality-Prediction'"
      ]
     },
     "execution_count": 2,
     "metadata": {},
     "output_type": "execute_result"
    }
   ],
   "source": [
    "import os\n",
    "%pwd\n",
    "os.chdir(\"../\")\n",
    "%pwd"
   ]
  },
  {
   "cell_type": "code",
   "execution_count": 3,
   "metadata": {},
   "outputs": [
    {
     "name": "stdout",
     "output_type": "stream",
     "text": [
      "    age  sex  cp  trestbps  chol  fbs  restecg  thalach  exang  oldpeak  \\\n",
      "0    52    1   0       125   212    0        1      168      0      1.0   \n",
      "1    53    1   0       140   203    1        0      155      1      3.1   \n",
      "2    70    1   0       145   174    0        1      125      1      2.6   \n",
      "3    61    1   0       148   203    0        1      161      0      0.0   \n",
      "4    62    0   0       138   294    1        1      106      0      1.9   \n",
      "5    58    0   0       100   248    0        0      122      0      1.0   \n",
      "6    58    1   0       114   318    0        2      140      0      4.4   \n",
      "7    55    1   0       160   289    0        0      145      1      0.8   \n",
      "8    46    1   0       120   249    0        0      144      0      0.8   \n",
      "9    54    1   0       122   286    0        0      116      1      3.2   \n",
      "10   71    0   0       112   149    0        1      125      0      1.6   \n",
      "11   43    0   0       132   341    1        0      136      1      3.0   \n",
      "12   34    0   1       118   210    0        1      192      0      0.7   \n",
      "13   51    1   0       140   298    0        1      122      1      4.2   \n",
      "14   52    1   0       128   204    1        1      156      1      1.0   \n",
      "15   34    0   1       118   210    0        1      192      0      0.7   \n",
      "16   51    0   2       140   308    0        0      142      0      1.5   \n",
      "17   54    1   0       124   266    0        0      109      1      2.2   \n",
      "18   50    0   1       120   244    0        1      162      0      1.1   \n",
      "19   58    1   2       140   211    1        0      165      0      0.0   \n",
      "\n",
      "    slope  ca  thal  target  \n",
      "0       2   2     3       0  \n",
      "1       0   0     3       0  \n",
      "2       0   0     3       0  \n",
      "3       2   1     3       0  \n",
      "4       1   3     2       0  \n",
      "5       1   0     2       1  \n",
      "6       0   3     1       0  \n",
      "7       1   1     3       0  \n",
      "8       2   0     3       0  \n",
      "9       1   2     2       0  \n",
      "10      1   0     2       1  \n",
      "11      1   0     3       0  \n",
      "12      2   0     2       1  \n",
      "13      1   3     3       0  \n",
      "14      1   0     0       0  \n",
      "15      2   0     2       1  \n",
      "16      2   1     2       1  \n",
      "17      1   1     3       0  \n",
      "18      2   0     2       1  \n",
      "19      2   0     2       1  \n"
     ]
    }
   ],
   "source": [
    "import pandas as pd\n",
    "\n",
    "# Define the file path\n",
    "file_path = 'artifacts/data_ingestion/heart.csv'\n",
    "\n",
    "# Check if the file exists\n",
    "if not os.path.exists(file_path):\n",
    "    raise FileNotFoundError(f\"No such file or directory: '{file_path}'\")\n",
    "\n",
    "# Load the data\n",
    "data = pd.read_csv(file_path)\n",
    "print(data.head(20))"
   ]
  },
  {
   "cell_type": "code",
   "execution_count": 5,
   "metadata": {},
   "outputs": [
    {
     "name": "stdout",
     "output_type": "stream",
     "text": [
      "<class 'pandas.core.frame.DataFrame'>\n",
      "RangeIndex: 1025 entries, 0 to 1024\n",
      "Data columns (total 14 columns):\n",
      " #   Column    Non-Null Count  Dtype  \n",
      "---  ------    --------------  -----  \n",
      " 0   age       1025 non-null   int64  \n",
      " 1   sex       1025 non-null   int64  \n",
      " 2   cp        1025 non-null   int64  \n",
      " 3   trestbps  1025 non-null   int64  \n",
      " 4   chol      1025 non-null   int64  \n",
      " 5   fbs       1025 non-null   int64  \n",
      " 6   restecg   1025 non-null   int64  \n",
      " 7   thalach   1025 non-null   int64  \n",
      " 8   exang     1025 non-null   int64  \n",
      " 9   oldpeak   1025 non-null   float64\n",
      " 10  slope     1025 non-null   int64  \n",
      " 11  ca        1025 non-null   int64  \n",
      " 12  thal      1025 non-null   int64  \n",
      " 13  target    1025 non-null   int64  \n",
      "dtypes: float64(1), int64(13)\n",
      "memory usage: 112.2 KB\n"
     ]
    }
   ],
   "source": [
    "data.info()"
   ]
  },
  {
   "cell_type": "code",
   "execution_count": 6,
   "metadata": {},
   "outputs": [],
   "source": [
    "from dataclasses import dataclass\n",
    "from pathlib import Path\n",
    "\n",
    "\n",
    "@dataclass(frozen=True)\n",
    "class DataValidationConfig:\n",
    "    root_dir: Path\n",
    "    STATUS_FILE: str\n",
    "    unzip_data_dir: Path\n",
    "    all_schema: dict"
   ]
  },
  {
   "cell_type": "code",
   "execution_count": 7,
   "metadata": {},
   "outputs": [],
   "source": [
    "from mlProject.constants import *\n",
    "from mlProject.utils.common import read_yaml, create_directories\n",
    "\n",
    "class ConfigurationManager:\n",
    "    def __init__(\n",
    "        self,\n",
    "        config_filepath = CONFIG_FILE_PATH,\n",
    "        params_filepath = PARAMS_FILE_PATH,\n",
    "        schema_filepath = SCHEMA_FILE_PATH):\n",
    "\n",
    "        self.config = read_yaml(config_filepath)\n",
    "        self.params = read_yaml(params_filepath)\n",
    "        self.schema = read_yaml(schema_filepath)\n",
    "\n",
    "        create_directories([self.config.artifacts_root])\n",
    "\n",
    "\n",
    "    \n",
    "    def get_data_validation_config(self) -> DataValidationConfig:\n",
    "        config = self.config.data_validation\n",
    "        schema = self.schema.COLUMNS\n",
    "\n",
    "        create_directories([config.root_dir])\n",
    "\n",
    "        data_validation_config = DataValidationConfig(\n",
    "            root_dir=config.root_dir,\n",
    "            STATUS_FILE=config.STATUS_FILE,\n",
    "            unzip_data_dir = config.unzip_data_dir,\n",
    "            all_schema=schema,\n",
    "        )\n",
    "\n",
    "        return data_validation_config\n",
    "\n"
   ]
  },
  {
   "cell_type": "code",
   "execution_count": 8,
   "metadata": {},
   "outputs": [],
   "source": [
    "from mlProject import logger\n",
    "\n",
    "class DataValiadtion:\n",
    "    def __init__(self, config: DataValidationConfig):\n",
    "        self.config = config\n",
    "\n",
    "\n",
    "    def validate_all_columns(self)-> bool:\n",
    "        try:\n",
    "            validation_status = None\n",
    "\n",
    "            data = pd.read_csv(self.config.unzip_data_dir)\n",
    "            all_cols = list(data.columns)\n",
    "\n",
    "            all_schema = self.config.all_schema.keys()\n",
    "\n",
    "            \n",
    "            for col in all_cols:\n",
    "                if col not in all_schema:\n",
    "                    validation_status = False\n",
    "                    with open(self.config.STATUS_FILE, 'w') as f:\n",
    "                        f.write(f\"Validation status: {validation_status}\")\n",
    "                else:\n",
    "                    validation_status = True\n",
    "                    with open(self.config.STATUS_FILE, 'w') as f:\n",
    "                        f.write(f\"Validation status: {validation_status}\")\n",
    "\n",
    "            return validation_status\n",
    "        \n",
    "        except Exception as e:\n",
    "            raise e"
   ]
  },
  {
   "cell_type": "code",
   "execution_count": 9,
   "metadata": {},
   "outputs": [
    {
     "name": "stdout",
     "output_type": "stream",
     "text": [
      "[2024-12-23 19:33:19,956: INFO: common: yaml file: config/config.yaml loaded successfully]\n",
      "[2024-12-23 19:33:19,959: INFO: common: yaml file: params.yaml loaded successfully]\n",
      "[2024-12-23 19:33:19,961: INFO: common: yaml file: schema.yaml loaded successfully]\n",
      "[2024-12-23 19:33:19,962: INFO: common: created directory at: artifacts]\n",
      "[2024-12-23 19:33:19,962: INFO: common: created directory at: artifacts/data_validation]\n"
     ]
    }
   ],
   "source": [
    "try:\n",
    "    config = ConfigurationManager()\n",
    "    data_validation_config = config.get_data_validation_config()\n",
    "    data_validation = DataValiadtion(config=data_validation_config)\n",
    "    data_validation.validate_all_columns()\n",
    "except Exception as e:\n",
    "    raise e"
   ]
  }
 ],
 "metadata": {
  "kernelspec": {
   "display_name": "mlproj",
   "language": "python",
   "name": "python3"
  },
  "language_info": {
   "codemirror_mode": {
    "name": "ipython",
    "version": 3
   },
   "file_extension": ".py",
   "mimetype": "text/x-python",
   "name": "python",
   "nbconvert_exporter": "python",
   "pygments_lexer": "ipython3",
   "version": "3.8.20"
  }
 },
 "nbformat": 4,
 "nbformat_minor": 2
}
